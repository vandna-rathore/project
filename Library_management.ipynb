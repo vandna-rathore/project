{
  "cells": [
    {
      "cell_type": "markdown",
      "metadata": {
        "id": "view-in-github",
        "colab_type": "text"
      },
      "source": [
        "<a href=\"https://colab.research.google.com/github/vandna-rathore/project/blob/main/Library_management.ipynb\" target=\"_parent\"><img src=\"https://colab.research.google.com/assets/colab-badge.svg\" alt=\"Open In Colab\"/></a>"
      ]
    },
    {
      "cell_type": "markdown",
      "source": [
        "Library Management System"
      ],
      "metadata": {
        "id": "rF1AYi4krlrt"
      }
    },
    {
      "cell_type": "code",
      "source": [
        "import sqlite3\n",
        "\n",
        "# Connect to the SQLite database\n",
        "conn = sqlite3.connect('library_db1')\n",
        "c = conn.cursor()\n",
        "\n",
        "# Create a table for books if it doesn't exist\n",
        "c.execute('''CREATE TABLE IF NOT EXISTS books\n",
        "             (book_id INTEGER PRIMARY KEY, student_id TEXT, book_name TEXT)''')\n",
        "\n",
        "def add_book(student_id, book_name, book_id):\n",
        "    \"\"\"Add a book to the library.\"\"\"\n",
        "    c.execute(\"INSERT INTO books (student_id, book_name, book_id) VALUES (?, ?, ?)\", (student_id, book_name, book_id))\n",
        "    conn.commit()\n",
        "    print(\"Book added successfully!\")\n",
        "\n",
        "def display_books():\n",
        "    \"\"\"Display all books in the library.\"\"\"\n",
        "    c.execute(\"SELECT * FROM books\")\n",
        "    books = c.fetchall()\n",
        "    if books:\n",
        "        for book in books:\n",
        "            print(f\"Book ID: {book[0]}, Student ID: {book[2]}, Book Name: {book[1]}\")\n",
        "    else:\n",
        "        print(\"No books found in the library.\")\n",
        "\n",
        "def sort_books():\n",
        "    \"\"\"Sort books by book ID.\"\"\"\n",
        "    c.execute(\"SELECT * FROM books ORDER BY book_id\")\n",
        "    books = c.fetchall()\n",
        "    if books:\n",
        "        for book in books:\n",
        "            print(f\"Book ID: {book[0]}, Student ID: {book[1]}, Book Name: {book[2]}\")\n",
        "    else:\n",
        "        print(\"No books found in the library.\")\n",
        "\n",
        "def search_book(book_id):\n",
        "    \"\"\"Search for a book by book ID.\"\"\"\n",
        "    c.execute(\"SELECT * FROM books WHERE book_id = ?\", (book_id,))\n",
        "    book = c.fetchone()\n",
        "    if book:\n",
        "        print(f\"Book ID: {book[0]}, Book Name: {book[1]}, Student ID: {book[2]}\")\n",
        "    else:\n",
        "        print(\"Book not found in the library.\")\n",
        "\n",
        "def close_connection():\n",
        "    \"\"\"Close the database connection.\"\"\"\n",
        "    conn.close()\n",
        "\n",
        "# Menu for interacting with the Library Management System\n",
        "def menu():\n",
        "    print(\"\\n---------------------------------\")\n",
        "    print(\"Welcome to the Library Management System\")\n",
        "    print(\"1. Add Book\")\n",
        "    print(\"2. Display Books\")\n",
        "    print(\"3. Sort Books\")\n",
        "    print(\"4. Search Book by Book ID\")\n",
        "    print(\"5. Quit\")\n",
        "\n",
        "    choice = input(\"\\nEnter your choice (1-5): \")\n",
        "\n",
        "    if choice == '1':\n",
        "        student_id = input(\"Enter Student ID: \")\n",
        "        book_name = input(\"Enter Book Name: \")\n",
        "        book_id = input(\"Enter Book ID: \")\n",
        "        add_book(student_id, book_name, book_id)\n",
        "    elif choice == '2':\n",
        "        display_books()\n",
        "    elif choice == '3':\n",
        "        sort_books()\n",
        "    elif choice == '4':\n",
        "        book_id = input(\"Enter Book ID: \")\n",
        "        search_book(book_id)\n",
        "    elif choice == '5':\n",
        "        close_connection()\n",
        "        print(\"Thank you for using the Library Management System!\")\n",
        "        return\n",
        "    else:\n",
        "        print(\"Invalid choice! Please choose again.\")\n",
        "\n",
        "    menu()\n",
        "\n",
        "# Run the Library Management System\n",
        "menu()"
      ],
      "metadata": {
        "id": "ZGaLyT3XrSjf",
        "colab": {
          "base_uri": "https://localhost:8080/"
        },
        "outputId": "49c3bbb1-7e3b-409c-e5d1-b58f05501fac"
      },
      "execution_count": null,
      "outputs": [
        {
          "output_type": "stream",
          "name": "stdout",
          "text": [
            "\n",
            "---------------------------------\n",
            "Welcome to the Library Management System\n",
            "1. Add Book\n",
            "2. Display Books\n",
            "3. Sort Books\n",
            "4. Search Book by Book ID\n",
            "5. Quit\n",
            "\n",
            "Enter your choice (1-5): 5\n",
            "Thank you for using the Library Management System!\n"
          ]
        }
      ]
    }
  ],
  "metadata": {
    "colab": {
      "provenance": [],
      "authorship_tag": "ABX9TyPZ9ZMcuhkSXHCLRjHca5eS",
      "include_colab_link": true
    },
    "kernelspec": {
      "display_name": "Python 3",
      "name": "python3"
    },
    "language_info": {
      "name": "python"
    }
  },
  "nbformat": 4,
  "nbformat_minor": 0
}